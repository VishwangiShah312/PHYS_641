{
 "cells": [
  {
   "cell_type": "code",
   "execution_count": 1,
   "id": "cdc58f8f",
   "metadata": {},
   "outputs": [],
   "source": [
    "import matplotlib.pyplot as plt\n",
    "import numpy as np\n",
    "import scipy.stats as stats\n",
    "import math\n",
    "import numpy as np"
   ]
  },
  {
   "cell_type": "markdown",
   "id": "e7c5fefc",
   "metadata": {},
   "source": [
    "# Q2"
   ]
  },
  {
   "cell_type": "code",
   "execution_count": 8,
   "id": "9cb4f723",
   "metadata": {},
   "outputs": [],
   "source": [
    "#Function which defines log of the Poisson probability. The factorial is replaced by the Sterling approximation to \n",
    "#get this form of the log probability\n",
    "def log_poisson(x, mean):\n",
    "    prob = x*np.log(mean/x) + x - mean - np.log(np.sqrt(2*np.pi*x))\n",
    "    return prob"
   ]
  },
  {
   "cell_type": "code",
   "execution_count": 9,
   "id": "3f50abc5",
   "metadata": {},
   "outputs": [
    {
     "name": "stdout",
     "output_type": "stream",
     "text": [
      "lambda = 8.399999999999986, ratio of probabilities = 1.9995566432842524\n",
      "n for 3 sigma= 17.094826047713642\n"
     ]
    }
   ],
   "source": [
    "#For 3 sigma\n",
    "#Start with a mean of 0 keep adding 0.1 to mean until poisson_prob/gaussian_prob <2\n",
    "mean = 0\n",
    "sigma = pow(mean, 0.5)\n",
    "poisson_prob = 100 #Random value to make the while loop work\n",
    "gaussian_prob = 1  #Random value to make the while loop work\n",
    "while (poisson_prob/gaussian_prob) >=2:\n",
    "    mean = mean + 0.1\n",
    "    sigma = pow(mean, 0.5)\n",
    "    x = mean + 3*sigma\n",
    "    gaussian_prob  = stats.norm.pdf(x, mean, sigma)\n",
    "    poisson_prob = np.exp(log_poisson(x, mean))\n",
    "n = mean + 3*sigma\n",
    "print(\"lambda = {}, ratio of probabilities = {}\".format(mean, poisson_prob/gaussian_prob))\n",
    "print(\"n for 3 sigma= {}\".format(n))"
   ]
  },
  {
   "cell_type": "code",
   "execution_count": 10,
   "id": "04630316",
   "metadata": {},
   "outputs": [
    {
     "name": "stdout",
     "output_type": "stream",
     "text": [
      "lambda = 575.7000000000623, ratio of probabilities = 1.9999281895017167\n",
      "n for 5 sigma= 695.6687459299984\n"
     ]
    }
   ],
   "source": [
    "#For 5 sigma\n",
    "#Start with a mean of 0 keep adding 0.1 to mean until poisson_prob/gaussian_prob <2\n",
    "mean = 0\n",
    "sigma = pow(mean, 0.5)\n",
    "poisson_prob = 100  #Random value to make the while loop work\n",
    "gaussian_prob = 1   #Random value to make the while loop work\n",
    "while (poisson_prob/gaussian_prob) >=2:\n",
    "    mean = mean + 0.1\n",
    "    sigma = pow(mean, 0.5)\n",
    "    x = mean + 5*sigma\n",
    "    gaussian_prob  = stats.norm.pdf(x, mean, sigma)\n",
    "    poisson_prob = np.exp(log_poisson(x, mean))\n",
    "n = mean + 5*sigma\n",
    "print(\"lambda = {}, ratio of probabilities = {}\".format(mean, poisson_prob/gaussian_prob))\n",
    "print(\"n for 5 sigma= {}\".format(n))"
   ]
  },
  {
   "cell_type": "markdown",
   "id": "48c0e018",
   "metadata": {},
   "source": [
    "# Q4"
   ]
  },
  {
   "cell_type": "code",
   "execution_count": 12,
   "id": "f0284410",
   "metadata": {},
   "outputs": [
    {
     "name": "stdout",
     "output_type": "stream",
     "text": [
      "Bias is -0.0021597880255318. As can be seen, average of m - m_true is very close to 0. So, the least square estimate is unbiased.\n"
     ]
    }
   ],
   "source": [
    "m = [] #Stores the m for each chunk\n",
    "error_m = [] #Stores the error in m for each chunk\n",
    "bias_m = [] #Stores m - m_true for each chunk\n",
    "m_true = 1\n",
    "for i in range(10000):    \n",
    "    x = np.linspace(-5,5,51)\n",
    "    signal = np.exp(-x*x/2) + np.random.randn(51)\n",
    "    n = np.std(signal)\n",
    "    N_inv = np.zeros([51,51])\n",
    "    for i in range(51):\n",
    "        N_inv[i][i] = 1/n**2\n",
    "    A = np.zeros([51])\n",
    "    for i in range(51):\n",
    "        A[i] = np.exp(-x[i]**2/2)\n",
    "    lhs = A.T@N_inv@A\n",
    "    rhs = A.T@N_inv@signal\n",
    "    m_chunk = rhs/lhs\n",
    "    error_chunk = np.sqrt(1/lhs)\n",
    "    m.append(m_chunk)\n",
    "    error_m.append(error_chunk) \n",
    "    bias_m.append(m_chunk - m_true)\n",
    "bias = np.mean(bias_m)  #Getting the average of m - m_true \n",
    "print(\"Bias is {}. As can be seen, average of m - m_true is very close to 0. So, the least square estimate is unbiased.\".format(bias))"
   ]
  },
  {
   "cell_type": "code",
   "execution_count": 17,
   "id": "d01b5443",
   "metadata": {},
   "outputs": [
    {
     "data": {
      "text/plain": [
       "Text(0, 0.5, 'Weighted avg')"
      ]
     },
     "execution_count": 17,
     "metadata": {},
     "output_type": "execute_result"
    },
    {
     "data": {
      "image/png": "[encoded data removed]",
      "text/plain": [
       "<Figure size 432x288 with 1 Axes>"
      ]
     },
     "metadata": {
      "needs_background": "light"
     },
     "output_type": "display_data"
    }
   ],
   "source": [
    "#Getting the weighted average of m for different number of chunks\n",
    "weighted_avg = []\n",
    "for i in range(10000):\n",
    "    numerator = 0\n",
    "    denominator = 0\n",
    "    for j in range(i+1):\n",
    "        numerator += m[j]/error_m[j]**2\n",
    "        denominator += 1/error_m[j]**2\n",
    "    weighted_m = numerator/denominator\n",
    "    weighted_avg.append(weighted_m)\n",
    "chunks = np.arange(1, 10001, 1)\n",
    "plt.plot(chunks, weighted_avg)\n",
    "plt.xlabel(\"Number of chunks used to calculate the weighted avg\")\n",
    "plt.ylabel(\"Weighted avg\")"
   ]
  },
  {
   "cell_type": "markdown",
   "id": "6c1a3741",
   "metadata": {},
   "source": [
    "As can be seen, as the number of chunks used to calculate the weighted average increases, the value of m tends to be less that 1, and is thus biased low. "
   ]
  },
  {
   "cell_type": "code",
   "execution_count": 23,
   "id": "e3f3941b",
   "metadata": {},
   "outputs": [
    {
     "name": "stdout",
     "output_type": "stream",
     "text": [
      "My estimate for the amplitude of the signal = the weighted average of 10000 chunks = 0.973751451248865. Bias in the estimate = -2.6248548751135026%\n"
     ]
    }
   ],
   "source": [
    "#Weighted avg for 10000 chunks and the bias in our estimate\n",
    "final_bias = ((weighted_avg[9999] - m_true)/m_true)*100\n",
    "print(\"My estimate for the amplitude of the signal = the weighted average of 10000 chunks = {}. Bias in \\\n",
    "the estimate = {}%\".format(weighted_avg[9999], final_bias))"
   ]
  },
  {
   "cell_type": "markdown",
   "id": "b3ff38a1",
   "metadata": {},
   "source": [
    "There is a bias in the estimate because the noise and the true signal are both normal distributions. This bias can be mitigated if the noise and true signals have different models/templates"
   ]
  },
  {
   "cell_type": "code",
   "execution_count": null,
   "id": "0b55c6e8",
   "metadata": {},
   "outputs": [],
   "source": []
  }
 ],
 "metadata": {
  "kernelspec": {
   "display_name": "Python 3",
   "language": "python",
   "name": "python3"
  },
  "language_info": {
   "codemirror_mode": {
    "name": "ipython",
    "version": 3
   },
   "file_extension": ".py",
   "mimetype": "text/x-python",
   "name": "python",
   "nbconvert_exporter": "python",
   "pygments_lexer": "ipython3",
   "version": "3.6.9"
  }
 },
 "nbformat": 4,
 "nbformat_minor": 5
}
